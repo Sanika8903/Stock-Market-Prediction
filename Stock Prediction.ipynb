{
 "cells": [
  {
   "cell_type": "markdown",
   "id": "6c521f41-2be3-4422-9c16-80710f7df942",
   "metadata": {},
   "source": [
    "# PSYLIQ Tasks "
   ]
  },
  {
   "cell_type": "markdown",
   "id": "99fe4a78-54d8-4e8e-9deb-50f8c53fac39",
   "metadata": {},
   "source": [
    "## DS (Python) Done any 2!\n",
    "## DATA SCIENCE (PYTHON) ASSESSMENT QUESTIONS"
   ]
  },
  {
   "cell_type": "markdown",
   "id": "49d6aedf-6460-41a3-849c-6fa11d75bf16",
   "metadata": {},
   "source": [
    "## You need to download the Dummy Datasets for your analysis from the Internet!\n",
    "### 1) Stock Prediction:\n",
    "### Question: How can I predict the stock price of a company using LSTM( Long Short-Term Memory) in a Jupyter notebook or any other tool?"
   ]
  },
  {
   "cell_type": "code",
   "execution_count": null,
   "id": "fab7ec56-277a-44a3-b018-f54f584f0fef",
   "metadata": {},
   "outputs": [],
   "source": [
    "### Note : Here im taking the dataset from kaggle.com - tesla stock price the link is giving below\n",
    "dataset = https://www.kaggle.com/datasets/rpaguirre/tesla-stock-price"
   ]
  },
  {
   "cell_type": "code",
   "execution_count": 2,
   "id": "dc6a35c1-bf3e-4460-8844-76f82bd474dd",
   "metadata": {},
   "outputs": [
    {
     "name": "stdout",
     "output_type": "stream",
     "text": [
      "Requirement already satisfied: numpy in c:\\users\\hp\\anaconda3\\lib\\site-packages (1.23.5)\n",
      "Requirement already satisfied: pandas in c:\\users\\hp\\anaconda3\\lib\\site-packages (2.1.4)\n",
      "Requirement already satisfied: matplotlib in c:\\users\\hp\\anaconda3\\lib\\site-packages (3.8.2)\n",
      "Requirement already satisfied: tensorflow in c:\\users\\hp\\anaconda3\\lib\\site-packages (2.13.0)\n",
      "Requirement already satisfied: scikit-learn in c:\\users\\hp\\anaconda3\\lib\\site-packages (1.3.2)\n",
      "Requirement already satisfied: python-dateutil>=2.8.2 in c:\\users\\hp\\anaconda3\\lib\\site-packages (from pandas) (2.8.2)\n",
      "Requirement already satisfied: pytz>=2020.1 in c:\\users\\hp\\anaconda3\\lib\\site-packages (from pandas) (2023.3.post1)\n",
      "Requirement already satisfied: tzdata>=2022.1 in c:\\users\\hp\\anaconda3\\lib\\site-packages (from pandas) (2023.3)\n",
      "Requirement already satisfied: contourpy>=1.0.1 in c:\\users\\hp\\anaconda3\\lib\\site-packages (from matplotlib) (1.2.0)\n",
      "Requirement already satisfied: cycler>=0.10 in c:\\users\\hp\\anaconda3\\lib\\site-packages (from matplotlib) (0.12.1)\n",
      "Requirement already satisfied: fonttools>=4.22.0 in c:\\users\\hp\\anaconda3\\lib\\site-packages (from matplotlib) (4.47.0)\n",
      "Requirement already satisfied: kiwisolver>=1.3.1 in c:\\users\\hp\\anaconda3\\lib\\site-packages (from matplotlib) (1.4.5)\n",
      "Requirement already satisfied: packaging>=20.0 in c:\\users\\hp\\anaconda3\\lib\\site-packages (from matplotlib) (23.1)\n",
      "Requirement already satisfied: pillow>=8 in c:\\users\\hp\\anaconda3\\lib\\site-packages (from matplotlib) (10.0.1)\n",
      "Requirement already satisfied: pyparsing>=2.3.1 in c:\\users\\hp\\anaconda3\\lib\\site-packages (from matplotlib) (3.1.1)\n",
      "Requirement already satisfied: importlib-resources>=3.2.0 in c:\\users\\hp\\anaconda3\\lib\\site-packages (from matplotlib) (6.0.1)\n",
      "Requirement already satisfied: tensorflow-intel==2.13.0 in c:\\users\\hp\\anaconda3\\lib\\site-packages (from tensorflow) (2.13.0)\n",
      "Requirement already satisfied: absl-py>=1.0.0 in c:\\users\\hp\\anaconda3\\lib\\site-packages (from tensorflow-intel==2.13.0->tensorflow) (1.4.0)\n",
      "Requirement already satisfied: astunparse>=1.6.0 in c:\\users\\hp\\anaconda3\\lib\\site-packages (from tensorflow-intel==2.13.0->tensorflow) (1.6.3)\n",
      "Requirement already satisfied: flatbuffers>=23.1.21 in c:\\users\\hp\\anaconda3\\lib\\site-packages (from tensorflow-intel==2.13.0->tensorflow) (23.5.26)\n",
      "Requirement already satisfied: gast<=0.4.0,>=0.2.1 in c:\\users\\hp\\anaconda3\\lib\\site-packages (from tensorflow-intel==2.13.0->tensorflow) (0.4.0)\n",
      "Requirement already satisfied: google-pasta>=0.1.1 in c:\\users\\hp\\anaconda3\\lib\\site-packages (from tensorflow-intel==2.13.0->tensorflow) (0.2.0)\n",
      "Requirement already satisfied: h5py>=2.9.0 in c:\\users\\hp\\anaconda3\\lib\\site-packages (from tensorflow-intel==2.13.0->tensorflow) (3.10.0)\n",
      "Requirement already satisfied: libclang>=13.0.0 in c:\\users\\hp\\anaconda3\\lib\\site-packages (from tensorflow-intel==2.13.0->tensorflow) (16.0.6)\n",
      "Requirement already satisfied: opt-einsum>=2.3.2 in c:\\users\\hp\\anaconda3\\lib\\site-packages (from tensorflow-intel==2.13.0->tensorflow) (3.3.0)\n",
      "Requirement already satisfied: protobuf!=4.21.0,!=4.21.1,!=4.21.2,!=4.21.3,!=4.21.4,!=4.21.5,<5.0.0dev,>=3.20.3 in c:\\users\\hp\\anaconda3\\lib\\site-packages (from tensorflow-intel==2.13.0->tensorflow) (4.23.4)\n",
      "Requirement already satisfied: setuptools in c:\\users\\hp\\anaconda3\\lib\\site-packages (from tensorflow-intel==2.13.0->tensorflow) (68.0.0)\n",
      "Requirement already satisfied: six>=1.12.0 in c:\\users\\hp\\anaconda3\\lib\\site-packages (from tensorflow-intel==2.13.0->tensorflow) (1.16.0)\n",
      "Requirement already satisfied: termcolor>=1.1.0 in c:\\users\\hp\\anaconda3\\lib\\site-packages (from tensorflow-intel==2.13.0->tensorflow) (2.3.0)\n",
      "Requirement already satisfied: typing-extensions<4.6.0,>=3.6.6 in c:\\users\\hp\\anaconda3\\lib\\site-packages (from tensorflow-intel==2.13.0->tensorflow) (4.5.0)\n",
      "Requirement already satisfied: wrapt>=1.11.0 in c:\\users\\hp\\anaconda3\\lib\\site-packages (from tensorflow-intel==2.13.0->tensorflow) (1.16.0)\n",
      "Requirement already satisfied: grpcio<2.0,>=1.24.3 in c:\\users\\hp\\anaconda3\\lib\\site-packages (from tensorflow-intel==2.13.0->tensorflow) (1.56.2)\n",
      "Requirement already satisfied: tensorboard<2.14,>=2.13 in c:\\users\\hp\\anaconda3\\lib\\site-packages (from tensorflow-intel==2.13.0->tensorflow) (2.13.0)\n",
      "Requirement already satisfied: tensorflow-estimator<2.14,>=2.13.0 in c:\\users\\hp\\anaconda3\\lib\\site-packages (from tensorflow-intel==2.13.0->tensorflow) (2.13.0)\n",
      "Requirement already satisfied: keras<2.14,>=2.13.1 in c:\\users\\hp\\anaconda3\\lib\\site-packages (from tensorflow-intel==2.13.0->tensorflow) (2.13.1)\n",
      "Requirement already satisfied: tensorflow-io-gcs-filesystem>=0.23.1 in c:\\users\\hp\\anaconda3\\lib\\site-packages (from tensorflow-intel==2.13.0->tensorflow) (0.31.0)\n",
      "Requirement already satisfied: scipy>=1.5.0 in c:\\users\\hp\\anaconda3\\lib\\site-packages (from scikit-learn) (1.11.4)\n",
      "Requirement already satisfied: joblib>=1.1.1 in c:\\users\\hp\\anaconda3\\lib\\site-packages (from scikit-learn) (1.3.2)\n",
      "Requirement already satisfied: threadpoolctl>=2.0.0 in c:\\users\\hp\\anaconda3\\lib\\site-packages (from scikit-learn) (3.2.0)\n",
      "Requirement already satisfied: zipp>=3.1.0 in c:\\users\\hp\\anaconda3\\lib\\site-packages (from importlib-resources>=3.2.0->matplotlib) (3.11.0)\n",
      "Requirement already satisfied: wheel<1.0,>=0.23.0 in c:\\users\\hp\\anaconda3\\lib\\site-packages (from astunparse>=1.6.0->tensorflow-intel==2.13.0->tensorflow) (0.41.2)\n",
      "Requirement already satisfied: google-auth<3,>=1.6.3 in c:\\users\\hp\\anaconda3\\lib\\site-packages (from tensorboard<2.14,>=2.13->tensorflow-intel==2.13.0->tensorflow) (2.22.0)\n",
      "Requirement already satisfied: google-auth-oauthlib<1.1,>=0.5 in c:\\users\\hp\\anaconda3\\lib\\site-packages (from tensorboard<2.14,>=2.13->tensorflow-intel==2.13.0->tensorflow) (1.0.0)\n",
      "Requirement already satisfied: markdown>=2.6.8 in c:\\users\\hp\\anaconda3\\lib\\site-packages (from tensorboard<2.14,>=2.13->tensorflow-intel==2.13.0->tensorflow) (3.5.1)\n",
      "Requirement already satisfied: requests<3,>=2.21.0 in c:\\users\\hp\\anaconda3\\lib\\site-packages (from tensorboard<2.14,>=2.13->tensorflow-intel==2.13.0->tensorflow) (2.31.0)\n",
      "Requirement already satisfied: tensorboard-data-server<0.8.0,>=0.7.0 in c:\\users\\hp\\anaconda3\\lib\\site-packages (from tensorboard<2.14,>=2.13->tensorflow-intel==2.13.0->tensorflow) (0.7.1)\n",
      "Requirement already satisfied: werkzeug>=1.0.1 in c:\\users\\hp\\anaconda3\\lib\\site-packages (from tensorboard<2.14,>=2.13->tensorflow-intel==2.13.0->tensorflow) (3.0.1)\n",
      "Requirement already satisfied: cachetools<6.0,>=2.0.0 in c:\\users\\hp\\anaconda3\\lib\\site-packages (from google-auth<3,>=1.6.3->tensorboard<2.14,>=2.13->tensorflow-intel==2.13.0->tensorflow) (5.3.1)\n",
      "Requirement already satisfied: pyasn1-modules>=0.2.1 in c:\\users\\hp\\anaconda3\\lib\\site-packages (from google-auth<3,>=1.6.3->tensorboard<2.14,>=2.13->tensorflow-intel==2.13.0->tensorflow) (0.3.0)\n",
      "Requirement already satisfied: rsa<5,>=3.1.4 in c:\\users\\hp\\anaconda3\\lib\\site-packages (from google-auth<3,>=1.6.3->tensorboard<2.14,>=2.13->tensorflow-intel==2.13.0->tensorflow) (4.9)\n",
      "Requirement already satisfied: urllib3<2.0 in c:\\users\\hp\\anaconda3\\lib\\site-packages (from google-auth<3,>=1.6.3->tensorboard<2.14,>=2.13->tensorflow-intel==2.13.0->tensorflow) (1.26.18)\n",
      "Requirement already satisfied: requests-oauthlib>=0.7.0 in c:\\users\\hp\\anaconda3\\lib\\site-packages (from google-auth-oauthlib<1.1,>=0.5->tensorboard<2.14,>=2.13->tensorflow-intel==2.13.0->tensorflow) (1.3.1)\n",
      "Requirement already satisfied: importlib-metadata>=4.4 in c:\\users\\hp\\anaconda3\\lib\\site-packages (from markdown>=2.6.8->tensorboard<2.14,>=2.13->tensorflow-intel==2.13.0->tensorflow) (6.0.0)\n",
      "Requirement already satisfied: charset-normalizer<4,>=2 in c:\\users\\hp\\anaconda3\\lib\\site-packages (from requests<3,>=2.21.0->tensorboard<2.14,>=2.13->tensorflow-intel==2.13.0->tensorflow) (2.0.4)\n",
      "Requirement already satisfied: idna<4,>=2.5 in c:\\users\\hp\\anaconda3\\lib\\site-packages (from requests<3,>=2.21.0->tensorboard<2.14,>=2.13->tensorflow-intel==2.13.0->tensorflow) (3.4)\n",
      "Requirement already satisfied: certifi>=2017.4.17 in c:\\users\\hp\\anaconda3\\lib\\site-packages (from requests<3,>=2.21.0->tensorboard<2.14,>=2.13->tensorflow-intel==2.13.0->tensorflow) (2023.11.17)\n",
      "Requirement already satisfied: MarkupSafe>=2.1.1 in c:\\users\\hp\\anaconda3\\lib\\site-packages (from werkzeug>=1.0.1->tensorboard<2.14,>=2.13->tensorflow-intel==2.13.0->tensorflow) (2.1.1)\n",
      "Requirement already satisfied: pyasn1<0.6.0,>=0.4.6 in c:\\users\\hp\\anaconda3\\lib\\site-packages (from pyasn1-modules>=0.2.1->google-auth<3,>=1.6.3->tensorboard<2.14,>=2.13->tensorflow-intel==2.13.0->tensorflow) (0.5.1)\n",
      "Requirement already satisfied: oauthlib>=3.0.0 in c:\\users\\hp\\anaconda3\\lib\\site-packages (from requests-oauthlib>=0.7.0->google-auth-oauthlib<1.1,>=0.5->tensorboard<2.14,>=2.13->tensorflow-intel==2.13.0->tensorflow) (3.2.2)\n"
     ]
    }
   ],
   "source": [
    "!pip install numpy pandas matplotlib tensorflow scikit-learn"
   ]
  },
  {
   "cell_type": "code",
   "execution_count": 3,
   "id": "2bf1ea8f-2024-4270-a59a-14aab2c03ba1",
   "metadata": {},
   "outputs": [],
   "source": [
    "import numpy as np\n",
    "import pandas as pd\n",
    "import matplotlib.pyplot as plt\n",
    "from sklearn.preprocessing import MinMaxScaler\n",
    "from tensorflow.keras.models import Sequential\n",
    "from tensorflow.keras.layers import LSTM, Dense"
   ]
  },
  {
   "cell_type": "markdown",
   "id": "66533c52-3f94-4b4b-9533-cc0a63ec6957",
   "metadata": {},
   "source": [
    "#### Load and Preprocess Data:\n",
    "Load the stock price dataset (e.g., Tesla) into a Pandas DataFrame. Ensure that the 'Date' column is in the datetime format. Normalize the data using Min-Max scaling:"
   ]
  },
  {
   "cell_type": "code",
   "execution_count": 4,
   "id": "6a98ec62-efd6-4d41-a5c7-637de6d993af",
   "metadata": {},
   "outputs": [],
   "source": [
    "# Load dataset\n",
    "df = pd.read_csv('Tesla.csv')"
   ]
  },
  {
   "cell_type": "code",
   "execution_count": 5,
   "id": "c9bb4cf8-9fd8-4072-9879-3375675263c7",
   "metadata": {},
   "outputs": [
    {
     "data": {
      "text/html": [
       "<div>\n",
       "<style scoped>\n",
       "    .dataframe tbody tr th:only-of-type {\n",
       "        vertical-align: middle;\n",
       "    }\n",
       "\n",
       "    .dataframe tbody tr th {\n",
       "        vertical-align: top;\n",
       "    }\n",
       "\n",
       "    .dataframe thead th {\n",
       "        text-align: right;\n",
       "    }\n",
       "</style>\n",
       "<table border=\"1\" class=\"dataframe\">\n",
       "  <thead>\n",
       "    <tr style=\"text-align: right;\">\n",
       "      <th></th>\n",
       "      <th>Date</th>\n",
       "      <th>Open</th>\n",
       "      <th>High</th>\n",
       "      <th>Low</th>\n",
       "      <th>Close</th>\n",
       "      <th>Volume</th>\n",
       "      <th>Adj Close</th>\n",
       "    </tr>\n",
       "  </thead>\n",
       "  <tbody>\n",
       "    <tr>\n",
       "      <th>0</th>\n",
       "      <td>6/29/2010</td>\n",
       "      <td>19.000000</td>\n",
       "      <td>25.00</td>\n",
       "      <td>17.540001</td>\n",
       "      <td>23.889999</td>\n",
       "      <td>18766300</td>\n",
       "      <td>23.889999</td>\n",
       "    </tr>\n",
       "    <tr>\n",
       "      <th>1</th>\n",
       "      <td>6/30/2010</td>\n",
       "      <td>25.790001</td>\n",
       "      <td>30.42</td>\n",
       "      <td>23.299999</td>\n",
       "      <td>23.830000</td>\n",
       "      <td>17187100</td>\n",
       "      <td>23.830000</td>\n",
       "    </tr>\n",
       "    <tr>\n",
       "      <th>2</th>\n",
       "      <td>7/1/2010</td>\n",
       "      <td>25.000000</td>\n",
       "      <td>25.92</td>\n",
       "      <td>20.270000</td>\n",
       "      <td>21.959999</td>\n",
       "      <td>8218800</td>\n",
       "      <td>21.959999</td>\n",
       "    </tr>\n",
       "    <tr>\n",
       "      <th>3</th>\n",
       "      <td>7/2/2010</td>\n",
       "      <td>23.000000</td>\n",
       "      <td>23.10</td>\n",
       "      <td>18.709999</td>\n",
       "      <td>19.200001</td>\n",
       "      <td>5139800</td>\n",
       "      <td>19.200001</td>\n",
       "    </tr>\n",
       "    <tr>\n",
       "      <th>4</th>\n",
       "      <td>7/6/2010</td>\n",
       "      <td>20.000000</td>\n",
       "      <td>20.00</td>\n",
       "      <td>15.830000</td>\n",
       "      <td>16.110001</td>\n",
       "      <td>6866900</td>\n",
       "      <td>16.110001</td>\n",
       "    </tr>\n",
       "  </tbody>\n",
       "</table>\n",
       "</div>"
      ],
      "text/plain": [
       "        Date       Open   High        Low      Close    Volume  Adj Close\n",
       "0  6/29/2010  19.000000  25.00  17.540001  23.889999  18766300  23.889999\n",
       "1  6/30/2010  25.790001  30.42  23.299999  23.830000  17187100  23.830000\n",
       "2   7/1/2010  25.000000  25.92  20.270000  21.959999   8218800  21.959999\n",
       "3   7/2/2010  23.000000  23.10  18.709999  19.200001   5139800  19.200001\n",
       "4   7/6/2010  20.000000  20.00  15.830000  16.110001   6866900  16.110001"
      ]
     },
     "execution_count": 5,
     "metadata": {},
     "output_type": "execute_result"
    }
   ],
   "source": [
    "df.head()"
   ]
  },
  {
   "cell_type": "code",
   "execution_count": 6,
   "id": "384ca442-09bd-444b-9d51-49218e61755a",
   "metadata": {},
   "outputs": [
    {
     "data": {
      "text/html": [
       "<div>\n",
       "<style scoped>\n",
       "    .dataframe tbody tr th:only-of-type {\n",
       "        vertical-align: middle;\n",
       "    }\n",
       "\n",
       "    .dataframe tbody tr th {\n",
       "        vertical-align: top;\n",
       "    }\n",
       "\n",
       "    .dataframe thead th {\n",
       "        text-align: right;\n",
       "    }\n",
       "</style>\n",
       "<table border=\"1\" class=\"dataframe\">\n",
       "  <thead>\n",
       "    <tr style=\"text-align: right;\">\n",
       "      <th></th>\n",
       "      <th>Date</th>\n",
       "      <th>Open</th>\n",
       "      <th>High</th>\n",
       "      <th>Low</th>\n",
       "      <th>Close</th>\n",
       "      <th>Volume</th>\n",
       "      <th>Adj Close</th>\n",
       "    </tr>\n",
       "  </thead>\n",
       "  <tbody>\n",
       "    <tr>\n",
       "      <th>1687</th>\n",
       "      <td>3/13/2017</td>\n",
       "      <td>244.820007</td>\n",
       "      <td>246.850006</td>\n",
       "      <td>242.779999</td>\n",
       "      <td>246.169998</td>\n",
       "      <td>3010700</td>\n",
       "      <td>246.169998</td>\n",
       "    </tr>\n",
       "    <tr>\n",
       "      <th>1688</th>\n",
       "      <td>3/14/2017</td>\n",
       "      <td>246.110001</td>\n",
       "      <td>258.119995</td>\n",
       "      <td>246.020004</td>\n",
       "      <td>258.000000</td>\n",
       "      <td>7575500</td>\n",
       "      <td>258.000000</td>\n",
       "    </tr>\n",
       "    <tr>\n",
       "      <th>1689</th>\n",
       "      <td>3/15/2017</td>\n",
       "      <td>257.000000</td>\n",
       "      <td>261.000000</td>\n",
       "      <td>254.270004</td>\n",
       "      <td>255.729996</td>\n",
       "      <td>4816600</td>\n",
       "      <td>255.729996</td>\n",
       "    </tr>\n",
       "    <tr>\n",
       "      <th>1690</th>\n",
       "      <td>3/16/2017</td>\n",
       "      <td>262.399994</td>\n",
       "      <td>265.750000</td>\n",
       "      <td>259.059998</td>\n",
       "      <td>262.049988</td>\n",
       "      <td>7100400</td>\n",
       "      <td>262.049988</td>\n",
       "    </tr>\n",
       "    <tr>\n",
       "      <th>1691</th>\n",
       "      <td>3/17/2017</td>\n",
       "      <td>264.000000</td>\n",
       "      <td>265.329987</td>\n",
       "      <td>261.200012</td>\n",
       "      <td>261.500000</td>\n",
       "      <td>6475900</td>\n",
       "      <td>261.500000</td>\n",
       "    </tr>\n",
       "  </tbody>\n",
       "</table>\n",
       "</div>"
      ],
      "text/plain": [
       "           Date        Open        High         Low       Close   Volume  \\\n",
       "1687  3/13/2017  244.820007  246.850006  242.779999  246.169998  3010700   \n",
       "1688  3/14/2017  246.110001  258.119995  246.020004  258.000000  7575500   \n",
       "1689  3/15/2017  257.000000  261.000000  254.270004  255.729996  4816600   \n",
       "1690  3/16/2017  262.399994  265.750000  259.059998  262.049988  7100400   \n",
       "1691  3/17/2017  264.000000  265.329987  261.200012  261.500000  6475900   \n",
       "\n",
       "       Adj Close  \n",
       "1687  246.169998  \n",
       "1688  258.000000  \n",
       "1689  255.729996  \n",
       "1690  262.049988  \n",
       "1691  261.500000  "
      ]
     },
     "execution_count": 6,
     "metadata": {},
     "output_type": "execute_result"
    }
   ],
   "source": [
    "df.tail()"
   ]
  },
  {
   "cell_type": "code",
   "execution_count": 7,
   "id": "ac3b948d-cf7d-4778-8192-0aaafbfe44a9",
   "metadata": {},
   "outputs": [],
   "source": [
    "# Convert 'Date' to datetime\n",
    "df['Date'] = pd.to_datetime(df['Date'])"
   ]
  },
  {
   "cell_type": "code",
   "execution_count": 8,
   "id": "392a9c55-1bb8-4aa6-b29a-5ff9aa5b7e10",
   "metadata": {},
   "outputs": [
    {
     "data": {
      "text/html": [
       "<div>\n",
       "<style scoped>\n",
       "    .dataframe tbody tr th:only-of-type {\n",
       "        vertical-align: middle;\n",
       "    }\n",
       "\n",
       "    .dataframe tbody tr th {\n",
       "        vertical-align: top;\n",
       "    }\n",
       "\n",
       "    .dataframe thead th {\n",
       "        text-align: right;\n",
       "    }\n",
       "</style>\n",
       "<table border=\"1\" class=\"dataframe\">\n",
       "  <thead>\n",
       "    <tr style=\"text-align: right;\">\n",
       "      <th></th>\n",
       "      <th>Date</th>\n",
       "      <th>Open</th>\n",
       "      <th>High</th>\n",
       "      <th>Low</th>\n",
       "      <th>Close</th>\n",
       "      <th>Volume</th>\n",
       "      <th>Adj Close</th>\n",
       "    </tr>\n",
       "  </thead>\n",
       "  <tbody>\n",
       "    <tr>\n",
       "      <th>0</th>\n",
       "      <td>2010-06-29</td>\n",
       "      <td>19.000000</td>\n",
       "      <td>25.00</td>\n",
       "      <td>17.540001</td>\n",
       "      <td>23.889999</td>\n",
       "      <td>18766300</td>\n",
       "      <td>23.889999</td>\n",
       "    </tr>\n",
       "    <tr>\n",
       "      <th>1</th>\n",
       "      <td>2010-06-30</td>\n",
       "      <td>25.790001</td>\n",
       "      <td>30.42</td>\n",
       "      <td>23.299999</td>\n",
       "      <td>23.830000</td>\n",
       "      <td>17187100</td>\n",
       "      <td>23.830000</td>\n",
       "    </tr>\n",
       "    <tr>\n",
       "      <th>2</th>\n",
       "      <td>2010-07-01</td>\n",
       "      <td>25.000000</td>\n",
       "      <td>25.92</td>\n",
       "      <td>20.270000</td>\n",
       "      <td>21.959999</td>\n",
       "      <td>8218800</td>\n",
       "      <td>21.959999</td>\n",
       "    </tr>\n",
       "    <tr>\n",
       "      <th>3</th>\n",
       "      <td>2010-07-02</td>\n",
       "      <td>23.000000</td>\n",
       "      <td>23.10</td>\n",
       "      <td>18.709999</td>\n",
       "      <td>19.200001</td>\n",
       "      <td>5139800</td>\n",
       "      <td>19.200001</td>\n",
       "    </tr>\n",
       "    <tr>\n",
       "      <th>4</th>\n",
       "      <td>2010-07-06</td>\n",
       "      <td>20.000000</td>\n",
       "      <td>20.00</td>\n",
       "      <td>15.830000</td>\n",
       "      <td>16.110001</td>\n",
       "      <td>6866900</td>\n",
       "      <td>16.110001</td>\n",
       "    </tr>\n",
       "  </tbody>\n",
       "</table>\n",
       "</div>"
      ],
      "text/plain": [
       "        Date       Open   High        Low      Close    Volume  Adj Close\n",
       "0 2010-06-29  19.000000  25.00  17.540001  23.889999  18766300  23.889999\n",
       "1 2010-06-30  25.790001  30.42  23.299999  23.830000  17187100  23.830000\n",
       "2 2010-07-01  25.000000  25.92  20.270000  21.959999   8218800  21.959999\n",
       "3 2010-07-02  23.000000  23.10  18.709999  19.200001   5139800  19.200001\n",
       "4 2010-07-06  20.000000  20.00  15.830000  16.110001   6866900  16.110001"
      ]
     },
     "execution_count": 8,
     "metadata": {},
     "output_type": "execute_result"
    }
   ],
   "source": [
    "df.head()"
   ]
  },
  {
   "cell_type": "code",
   "execution_count": 9,
   "id": "5f1eb000-5f83-4ffb-87cd-beb72c32a152",
   "metadata": {},
   "outputs": [],
   "source": [
    "# Sort the dataframe by date\n",
    "df = df.sort_values('Date')"
   ]
  },
  {
   "cell_type": "code",
   "execution_count": 11,
   "id": "220924c7-93ab-43e5-8ec9-8b4ae22db473",
   "metadata": {},
   "outputs": [],
   "source": [
    "# Normalize the data\n",
    "scaler = MinMaxScaler(feature_range=(0, 1))\n",
    "df_scaled = scaler.fit_transform(df['Close'].values.reshape(-1, 1))"
   ]
  },
  {
   "cell_type": "markdown",
   "id": "18d4dd2d-dff7-4c62-97c1-ded1a8b77875",
   "metadata": {},
   "source": [
    "#### Create Sequences:\n",
    "Creating sequences of data for training the LSTM model. This involves splitting the data into input sequences and corresponding output (target) values:"
   ]
  },
  {
   "cell_type": "code",
   "execution_count": 13,
   "id": "e1f6d675-1c0b-4abc-a4ce-9db5202a4ac1",
   "metadata": {},
   "outputs": [],
   "source": [
    "# Function to create sequences\n",
    "def create_sequences(data, seq_length):\n",
    "    sequences = []\n",
    "    targets = []\n",
    "    for i in range(len(data) - seq_length):\n",
    "        seq = data[i:i+seq_length]\n",
    "        label = data[i+seq_length]\n",
    "        sequences.append(seq)\n",
    "        targets.append(label)\n",
    "    return np.array(sequences), np.array(targets)"
   ]
  },
  {
   "cell_type": "code",
   "execution_count": 16,
   "id": "efc182b5-b2cd-445c-b7f8-88908c1e8a4f",
   "metadata": {},
   "outputs": [],
   "source": [
    "# Set sequence length\n",
    "sequence_length = 10  # we can adjust this parameter\n",
    "\n",
    "# Create sequences and targets\n",
    "X, y = create_sequences(df_scaled, sequence_length)"
   ]
  },
  {
   "cell_type": "markdown",
   "id": "84cec89d-cb07-4781-bd48-2c81c8d5e3c5",
   "metadata": {},
   "source": [
    "#### Build LSTM Model:\n",
    "Building and compile the LSTM model:"
   ]
  },
  {
   "cell_type": "code",
   "execution_count": 17,
   "id": "d9e27e96-93cd-4b77-a087-479cbfb63e8d",
   "metadata": {},
   "outputs": [],
   "source": [
    "model = Sequential()\n",
    "model.add(LSTM(50, activation='relu', input_shape=(sequence_length, 1)))\n",
    "model.add(Dense(1))\n",
    "model.compile(optimizer='adam', loss='mean_squared_error')"
   ]
  },
  {
   "cell_type": "markdown",
   "id": "916c23f8-928e-48aa-9126-10b261280ec7",
   "metadata": {},
   "source": [
    "#### Train the Model: \n",
    "Training the LSTM model using the tesla data:"
   ]
  },
  {
   "cell_type": "code",
   "execution_count": 18,
   "id": "d49f0cb0-d395-4554-bcb8-163e5c8d3e0a",
   "metadata": {},
   "outputs": [
    {
     "name": "stdout",
     "output_type": "stream",
     "text": [
      "Epoch 1/50\n",
      "53/53 [==============================] - 4s 10ms/step - loss: 0.0865\n",
      "Epoch 2/50\n",
      "53/53 [==============================] - 1s 11ms/step - loss: 0.0015\n",
      "Epoch 3/50\n",
      "53/53 [==============================] - 0s 9ms/step - loss: 0.0010\n",
      "Epoch 4/50\n",
      "53/53 [==============================] - 0s 8ms/step - loss: 8.2215e-04\n",
      "Epoch 5/50\n",
      "53/53 [==============================] - 0s 7ms/step - loss: 7.6880e-04\n",
      "Epoch 6/50\n",
      "53/53 [==============================] - 0s 8ms/step - loss: 7.4115e-04\n",
      "Epoch 7/50\n",
      "53/53 [==============================] - 0s 8ms/step - loss: 6.8165e-04\n",
      "Epoch 8/50\n",
      "53/53 [==============================] - 0s 8ms/step - loss: 6.9040e-04\n",
      "Epoch 9/50\n",
      "53/53 [==============================] - 0s 9ms/step - loss: 6.4583e-04\n",
      "Epoch 10/50\n",
      "53/53 [==============================] - 1s 10ms/step - loss: 6.2522e-04\n",
      "Epoch 11/50\n",
      "53/53 [==============================] - 0s 9ms/step - loss: 6.2604e-04\n",
      "Epoch 12/50\n",
      "53/53 [==============================] - 1s 10ms/step - loss: 6.2780e-04\n",
      "Epoch 13/50\n",
      "53/53 [==============================] - 0s 9ms/step - loss: 5.8779e-04\n",
      "Epoch 14/50\n",
      "53/53 [==============================] - 0s 9ms/step - loss: 5.9802e-04\n",
      "Epoch 15/50\n",
      "53/53 [==============================] - 0s 7ms/step - loss: 5.6326e-04\n",
      "Epoch 16/50\n",
      "53/53 [==============================] - 0s 7ms/step - loss: 5.4733e-04\n",
      "Epoch 17/50\n",
      "53/53 [==============================] - 0s 8ms/step - loss: 5.5251e-04\n",
      "Epoch 18/50\n",
      "53/53 [==============================] - 0s 8ms/step - loss: 5.5380e-04\n",
      "Epoch 19/50\n",
      "53/53 [==============================] - 0s 9ms/step - loss: 5.7288e-04\n",
      "Epoch 20/50\n",
      "53/53 [==============================] - 0s 8ms/step - loss: 5.4804e-04\n",
      "Epoch 21/50\n",
      "53/53 [==============================] - 0s 9ms/step - loss: 5.3534e-04\n",
      "Epoch 22/50\n",
      "53/53 [==============================] - 0s 9ms/step - loss: 5.2609e-04\n",
      "Epoch 23/50\n",
      "53/53 [==============================] - 0s 9ms/step - loss: 5.1666e-04\n",
      "Epoch 24/50\n",
      "53/53 [==============================] - 1s 11ms/step - loss: 4.8943e-04\n",
      "Epoch 25/50\n",
      "53/53 [==============================] - 0s 9ms/step - loss: 5.0894e-04\n",
      "Epoch 26/50\n",
      "53/53 [==============================] - 1s 11ms/step - loss: 4.9431e-04\n",
      "Epoch 27/50\n",
      "53/53 [==============================] - 0s 9ms/step - loss: 4.8210e-04\n",
      "Epoch 28/50\n",
      "53/53 [==============================] - 0s 9ms/step - loss: 4.9267e-04\n",
      "Epoch 29/50\n",
      "53/53 [==============================] - 0s 9ms/step - loss: 4.6056e-04\n",
      "Epoch 30/50\n",
      "53/53 [==============================] - 0s 8ms/step - loss: 4.5588e-04\n",
      "Epoch 31/50\n",
      "53/53 [==============================] - 0s 9ms/step - loss: 4.8133e-04\n",
      "Epoch 32/50\n",
      "53/53 [==============================] - 0s 8ms/step - loss: 4.5793e-04\n",
      "Epoch 33/50\n",
      "53/53 [==============================] - 0s 8ms/step - loss: 4.4407e-04\n",
      "Epoch 34/50\n",
      "53/53 [==============================] - 0s 8ms/step - loss: 4.4452e-04\n",
      "Epoch 35/50\n",
      "53/53 [==============================] - 0s 9ms/step - loss: 4.7310e-04\n",
      "Epoch 36/50\n",
      "53/53 [==============================] - 0s 8ms/step - loss: 4.3280e-04\n",
      "Epoch 37/50\n",
      "53/53 [==============================] - 0s 9ms/step - loss: 4.5421e-04\n",
      "Epoch 38/50\n",
      "53/53 [==============================] - 1s 10ms/step - loss: 4.4813e-04\n",
      "Epoch 39/50\n",
      "53/53 [==============================] - 1s 11ms/step - loss: 4.2880e-04\n",
      "Epoch 40/50\n",
      "53/53 [==============================] - 1s 12ms/step - loss: 4.3727e-04\n",
      "Epoch 41/50\n",
      "53/53 [==============================] - 0s 7ms/step - loss: 4.1294e-04\n",
      "Epoch 42/50\n",
      "53/53 [==============================] - 0s 8ms/step - loss: 4.1410e-04\n",
      "Epoch 43/50\n",
      "53/53 [==============================] - 0s 8ms/step - loss: 4.2596e-04\n",
      "Epoch 44/50\n",
      "53/53 [==============================] - 0s 7ms/step - loss: 4.3159e-04\n",
      "Epoch 45/50\n",
      "53/53 [==============================] - 0s 8ms/step - loss: 4.0958e-04\n",
      "Epoch 46/50\n",
      "53/53 [==============================] - 0s 8ms/step - loss: 4.0916e-04\n",
      "Epoch 47/50\n",
      "53/53 [==============================] - 0s 8ms/step - loss: 4.0310e-04\n",
      "Epoch 48/50\n",
      "53/53 [==============================] - 0s 7ms/step - loss: 4.0391e-04\n",
      "Epoch 49/50\n",
      "53/53 [==============================] - 0s 7ms/step - loss: 4.0938e-04\n",
      "Epoch 50/50\n",
      "53/53 [==============================] - 0s 7ms/step - loss: 4.1932e-04\n"
     ]
    },
    {
     "data": {
      "text/plain": [
       "<keras.src.callbacks.History at 0x224a38005b0>"
      ]
     },
     "execution_count": 18,
     "metadata": {},
     "output_type": "execute_result"
    }
   ],
   "source": [
    "model.fit(X, y, epochs=50, batch_size=32)"
   ]
  },
  {
   "cell_type": "code",
   "execution_count": 21,
   "id": "a4341464-1674-48cb-aeb9-b4b768f2efe4",
   "metadata": {},
   "outputs": [],
   "source": [
    "# Preparing test data\n",
    "test_data = df_scaled[-sequence_length:].reshape(1, -1, 1)"
   ]
  },
  {
   "cell_type": "code",
   "execution_count": 22,
   "id": "836cf816-42d7-41bd-b61d-ca502ca38bd1",
   "metadata": {},
   "outputs": [
    {
     "name": "stdout",
     "output_type": "stream",
     "text": [
      "1/1 [==============================] - 0s 38ms/step\n"
     ]
    }
   ],
   "source": [
    "# Making predictions\n",
    "predicted_value = model.predict(test_data)"
   ]
  },
  {
   "cell_type": "markdown",
   "id": "0e190103-ed7a-4e54-bcf6-702c6c046f8f",
   "metadata": {},
   "source": [
    "#### Inverse Transform:\n",
    "Inversing transform the predicted values to get the actual stock prices:"
   ]
  },
  {
   "cell_type": "code",
   "execution_count": 23,
   "id": "fc1869ee-7e69-479a-833b-7469698e740f",
   "metadata": {},
   "outputs": [],
   "source": [
    "predicted_price = scaler.inverse_transform(predicted_value.reshape(-1, 1))"
   ]
  },
  {
   "cell_type": "markdown",
   "id": "afc22f64-35bc-4b49-b01f-958ad113ea47",
   "metadata": {},
   "source": [
    "#### Visualize Results: \n",
    "Visualizing the predicted and actual stock prices:"
   ]
  },
  {
   "cell_type": "code",
   "execution_count": 29,
   "id": "928231b9-b786-4b1b-9d11-e02a21c69bbf",
   "metadata": {},
   "outputs": [
    {
     "data": {
      "image/png": "[encoded data removed]",
      "text/plain": [
       "<Figure size 640x480 with 1 Axes>"
      ]
     },
     "metadata": {},
     "output_type": "display_data"
    }
   ],
   "source": [
    "plt.plot(df['Date'], df['Close'], label='Actual Prices')\n",
    "plt.plot(df['Date'].iloc[-1] + pd.DateOffset(1), predicted_price[0], marker='o', label='Predicted Price')\n",
    "plt.xlabel('Date')\n",
    "plt.ylabel('Stock Price')\n",
    "plt.legend()\n",
    "plt.show()"
   ]
  },
  {
   "cell_type": "code",
   "execution_count": null,
   "id": "cf1a67ed-87bd-4ba3-8fb4-87ca5421268e",
   "metadata": {},
   "outputs": [],
   "source": []
  }
 ],
 "metadata": {
  "kernelspec": {
   "display_name": "Python 3 (ipykernel)",
   "language": "python",
   "name": "python3"
  },
  "language_info": {
   "codemirror_mode": {
    "name": "ipython",
    "version": 3
   },
   "file_extension": ".py",
   "mimetype": "text/x-python",
   "name": "python",
   "nbconvert_exporter": "python",
   "pygments_lexer": "ipython3",
   "version": "3.9.18"
  }
 },
 "nbformat": 4,
 "nbformat_minor": 5
}
